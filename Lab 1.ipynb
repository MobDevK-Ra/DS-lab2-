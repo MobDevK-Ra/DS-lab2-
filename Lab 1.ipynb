{
 "metadata": {
  "name": "",
  "signature": "sha256:44c960ff4858c959e4577948e92d6871fd3cd10430417eabb5d176825bdb5494"
 },
 "nbformat": 3,
 "nbformat_minor": 0,
 "worksheets": [
  {
   "cells": [
    {
     "cell_type": "heading",
     "level": 1,
     "metadata": {},
     "source": [
      "Lab 1. Introduction to Data Science"
     ]
    },
    {
     "cell_type": "markdown",
     "metadata": {},
     "source": [
      "Import libraries."
     ]
    },
    {
     "cell_type": "code",
     "collapsed": false,
     "input": [
      "import urllib2\n",
      "import os\n",
      "import pandas as pd\n",
      "from datetime import datetime\n",
      "from glob import glob"
     ],
     "language": "python",
     "metadata": {},
     "outputs": [],
     "prompt_number": 1
    },
    {
     "cell_type": "markdown",
     "metadata": {},
     "source": [
      "Create dir or delete all files in it if exists."
     ]
    },
    {
     "cell_type": "code",
     "collapsed": false,
     "input": [
      "if not os.path.exists('./Data/'):\n",
      "    os.makedirs('./Data/')\n",
      "else:\n",
      "    files = glob('./Data/*.csv')\n",
      "    for f in files:\n",
      "        os.remove(f)"
     ],
     "language": "python",
     "metadata": {},
     "outputs": [],
     "prompt_number": 2
    },
    {
     "cell_type": "markdown",
     "metadata": {},
     "source": [
      "Define list of name changes and vocabulary."
     ]
    },
    {
     "cell_type": "code",
     "collapsed": false,
     "input": [
      "change_list = ['22', '24', '23', '25', '03', '04', '08', '19', '20', '21', '26', '09', '10', '11', '12', '13', '14', '15', '16', '27',\n",
      "          '17', '18', '06', '01', '02', '07', '05']\n",
      "name_dict = {'22' : '\u0427\u0435\u0440\u043a\u0430\u0441\u0441\u043a\u0430\u044f', '24' : '\u0427\u0435\u0440\u043d\u0438\u0433\u043e\u0432\u0441\u043a\u0430\u044f', '23' : '\u0427\u0435\u0440\u043d\u043e\u0432\u0435\u0446\u043a\u0430\u044f', '25' : '\u0420\u0435\u0441\u043f\u0443\u0431\u043b\u0438\u043a\u0430 \u041a\u0440\u044b\u043c', '03' : '\u0414\u043d\u0435\u043f\u0440\u043e\u043f\u0435\u0442\u0440\u043e\u0432\u0441\u043a\u0430\u044f', \n",
      "             '04' : '\u0414\u043e\u043d\u0435\u0446\u043a\u0430\u044f', '08' : '\u0418\u0432\u0430\u043d\u043e-\u0424\u0440\u0430\u043d\u043a\u043e\u0432\u0441\u043a\u0430\u044f', '19' : '\u0425\u0430\u0440\u044c\u043a\u043e\u0432\u0441\u043a\u0430\u044f', '20' : '\u0425\u0435\u0440\u0441\u043e\u043d\u0441\u043a\u0430\u044f', '21' : '\u0425\u043c\u0435\u043b\u044c\u043d\u0438\u0446\u043a\u0430\u044f', \n",
      "             '26' : '\u041a\u0438\u0435\u0432(\u0413\u043e\u0440\u043e\u0434)', '09' : '\u041a\u0438\u0435\u0432c\u043a\u0430\u044f', '10' : '\u041a\u0438\u0440\u043e\u0432\u043e\u0433\u0440\u0430\u0434\u0441\u043a\u0430\u044f', '11' : '\u041b\u0443\u0433\u0430\u043d\u0441\u043a\u0430\u044f', '12' : '\u041b\u044c\u0432\u043e\u0432\u0441\u043a\u0430\u044f', \n",
      "             '13' : '\u041d\u0438\u043a\u043e\u043b\u0430\u0435\u0432\u0441\u043a\u0430\u044f', '14' : '\u041e\u0434\u0435\u0441\u0441\u043a\u0430\u044f', '15' : '\u041f\u043e\u043b\u0442\u0430\u0432\u0441\u043a\u0430\u044f', '16' : '\u0420\u043e\u0432\u043d\u0435\u043d\u0441\u043a\u0430\u044f', '27' : '\u0421\u0435\u0432\u0430\u0441\u0442\u043e\u043f\u043e\u043b\u044c', \n",
      "             '17' : '\u0421\u0443\u043c\u0441\u043a\u0430\u044f', '18' : '\u0422\u0435\u0440\u043d\u043e\u043f\u043e\u043b\u044c\u0441\u043a\u0430\u044f', '06' : '\u0417\u0430\u043a\u0430\u0440\u043f\u0430\u0442\u0441\u043a\u0430\u044f', '01' : '\u0412\u0438\u043d\u043d\u0438\u0446\u043a\u0430\u044f', '02' : '\u0412\u043e\u043b\u044b\u043d\u0441\u043a\u0430\u044f', \n",
      "             '07' : '\u0417\u0430\u043f\u043e\u0440\u043e\u0436\u0441\u043a\u0430\u044f', '05' : '\u0416\u0438\u0442\u043e\u043c\u0438\u0440\u0441\u043a\u0430\u044f'}"
     ],
     "language": "python",
     "metadata": {},
     "outputs": [],
     "prompt_number": 3
    },
    {
     "cell_type": "markdown",
     "metadata": {},
     "source": [
      "Download files from http://www.star.nesdis.noaa.gov/smcd/emb/vci/VH/index.php , change name with adding downloading date, rename and sort with specified conditions."
     ]
    },
    {
     "cell_type": "code",
     "collapsed": false,
     "input": [
      "n = datetime.now()\n",
      "main_url = \"http://www.star.nesdis.noaa.gov/smcd/emb/vci/gvix/G04/ts_L1/ByProvince/Mean/L1_Mean_UKR.R\"\n",
      "\n",
      "def download_files(file_number):\n",
      "    if file_number < 10:\n",
      "        url = main_url + '0' + str(i) + '.txt'\n",
      "    else:\n",
      "        url = main_url + str(i) + \".txt\"\n",
      "    vhi_url = urllib2.urlopen(url)\n",
      "    out = open(n.strftime('./Data/vhi_id_' + change_list[file_number-1] + '_%Y-%m-%d_%H-%M-%S.csv'),'wb')\n",
      "    out.write(vhi_url.read())\n",
      "    out.close()\n",
      "    print \"Dataset is downloaded...\"\n",
      "    \n",
      "i = 1\n",
      "while i < 28:\n",
      "    download_files(i)\n",
      "    i += 1"
     ],
     "language": "python",
     "metadata": {},
     "outputs": [
      {
       "output_type": "stream",
       "stream": "stdout",
       "text": [
        "Dataset is downloaded...\n",
        "Dataset is downloaded..."
       ]
      },
      {
       "output_type": "stream",
       "stream": "stdout",
       "text": [
        "\n",
        "Dataset is downloaded..."
       ]
      },
      {
       "output_type": "stream",
       "stream": "stdout",
       "text": [
        "\n",
        "Dataset is downloaded..."
       ]
      },
      {
       "output_type": "stream",
       "stream": "stdout",
       "text": [
        "\n",
        "Dataset is downloaded..."
       ]
      },
      {
       "output_type": "stream",
       "stream": "stdout",
       "text": [
        "\n",
        "Dataset is downloaded..."
       ]
      },
      {
       "output_type": "stream",
       "stream": "stdout",
       "text": [
        "\n",
        "Dataset is downloaded..."
       ]
      },
      {
       "output_type": "stream",
       "stream": "stdout",
       "text": [
        "\n",
        "Dataset is downloaded..."
       ]
      },
      {
       "output_type": "stream",
       "stream": "stdout",
       "text": [
        "\n",
        "Dataset is downloaded..."
       ]
      },
      {
       "output_type": "stream",
       "stream": "stdout",
       "text": [
        "\n",
        "Dataset is downloaded..."
       ]
      },
      {
       "output_type": "stream",
       "stream": "stdout",
       "text": [
        "\n",
        "Dataset is downloaded..."
       ]
      },
      {
       "output_type": "stream",
       "stream": "stdout",
       "text": [
        "\n",
        "Dataset is downloaded..."
       ]
      },
      {
       "output_type": "stream",
       "stream": "stdout",
       "text": [
        "\n",
        "Dataset is downloaded..."
       ]
      },
      {
       "output_type": "stream",
       "stream": "stdout",
       "text": [
        "\n",
        "Dataset is downloaded..."
       ]
      },
      {
       "output_type": "stream",
       "stream": "stdout",
       "text": [
        "\n",
        "Dataset is downloaded..."
       ]
      },
      {
       "output_type": "stream",
       "stream": "stdout",
       "text": [
        "\n",
        "Dataset is downloaded..."
       ]
      },
      {
       "output_type": "stream",
       "stream": "stdout",
       "text": [
        "\n",
        "Dataset is downloaded..."
       ]
      },
      {
       "output_type": "stream",
       "stream": "stdout",
       "text": [
        "\n",
        "Dataset is downloaded..."
       ]
      },
      {
       "output_type": "stream",
       "stream": "stdout",
       "text": [
        "\n",
        "Dataset is downloaded..."
       ]
      },
      {
       "output_type": "stream",
       "stream": "stdout",
       "text": [
        "\n",
        "Dataset is downloaded..."
       ]
      },
      {
       "output_type": "stream",
       "stream": "stdout",
       "text": [
        "\n",
        "Dataset is downloaded..."
       ]
      },
      {
       "output_type": "stream",
       "stream": "stdout",
       "text": [
        "\n",
        "Dataset is downloaded..."
       ]
      },
      {
       "output_type": "stream",
       "stream": "stdout",
       "text": [
        "\n",
        "Dataset is downloaded..."
       ]
      },
      {
       "output_type": "stream",
       "stream": "stdout",
       "text": [
        "\n",
        "Dataset is downloaded..."
       ]
      },
      {
       "output_type": "stream",
       "stream": "stdout",
       "text": [
        "\n",
        "Dataset is downloaded..."
       ]
      },
      {
       "output_type": "stream",
       "stream": "stdout",
       "text": [
        "\n",
        "Dataset is downloaded..."
       ]
      },
      {
       "output_type": "stream",
       "stream": "stdout",
       "text": [
        "\n",
        "Dataset is downloaded..."
       ]
      },
      {
       "output_type": "stream",
       "stream": "stdout",
       "text": [
        "\n"
       ]
      }
     ],
     "prompt_number": 4
    },
    {
     "cell_type": "markdown",
     "metadata": {},
     "source": [
      "Clean messy data"
     ]
    },
    {
     "cell_type": "code",
     "collapsed": false,
     "input": [
      "na_values = [-1, 0, 1, '-1', '1', '0', 'NULL']"
     ],
     "language": "python",
     "metadata": {},
     "outputs": [],
     "prompt_number": 5
    },
    {
     "cell_type": "markdown",
     "metadata": {},
     "source": [
      "Search files in created directory, change column names and print row of data with specified conditions."
     ]
    },
    {
     "cell_type": "code",
     "collapsed": false,
     "input": [
      "def search_n_rename(file_number): \n",
      "    for file_name in os.listdir('./Data'):\n",
      "        if file_number < 10:\n",
      "            number = ('0' + str(i))\n",
      "        else:\n",
      "            number = str(i)\n",
      "        if file_name.startswith('vhi_id_' + number):\n",
      "            data_frame = pd.read_csv('./Data/' + file_name, na_values = na_values, index_col=False, header=1)\n",
      "            data_frame = data_frame.rename(columns={'%Area_VHI_LESS_15': 'VHI_LESS_15', '%Area_VHI_LESS_35': 'VHI_LESS_35'})\n",
      "            print ('\\n[--- ' + name_dict[number] + ' ---]\\n')\n",
      "    return data_frame\n",
      "\n",
      "i = 1\n",
      "while i < 28:\n",
      "    df = search_n_rename(i)\n",
      "    print df[(df['year']==2000) & (df['week']==18)]\n",
      "    i += 1"
     ],
     "language": "python",
     "metadata": {},
     "outputs": [
      {
       "output_type": "stream",
       "stream": "stdout",
       "text": [
        "\n",
        "[--- \u0412\u0438\u043d\u043d\u0438\u0446\u043a\u0430\u044f ---]\n",
        "\n",
        "     year  week     SMN     SMT    VCI    TCI    VHI  VHI_LESS_15  VHI_LESS_35\n",
        "971  2000    18  0.3057  290.82  83.54  30.81  57.17         0.04         2.65\n",
        "\n",
        "[--- \u0412\u043e\u043b\u044b\u043d\u0441\u043a\u0430\u044f ---]\n",
        "\n",
        "     year  week     SMN     SMT    VCI    TCI    VHI  VHI_LESS_15  VHI_LESS_35\n",
        "971  2000    18  0.3533  290.31  87.63  19.39  53.51          NaN         2.23\n",
        "\n",
        "[--- \u0414\u043d\u0435\u043f\u0440\u043e\u043f\u0435\u0442\u0440\u043e\u0432\u0441\u043a\u0430\u044f ---]\n",
        "\n",
        "     year  week    SMN      SMT    VCI    TCI    VHI  VHI_LESS_15  VHI_LESS_35\n",
        "971  2000    18  0.217  292.545  60.71  32.98  46.84         0.04        14.46\n",
        "\n",
        "[--- \u0414\u043e\u043d\u0435\u0446\u043a\u0430\u044f ---]\n",
        "\n",
        "     year  week     SMN      SMT   VCI    TCI    VHI  VHI_LESS_15  VHI_LESS_35\n",
        "971  2000    18  0.1827  290.503  47.4  42.72  45.06         0.18        17.94\n",
        "\n",
        "[--- \u0416\u0438\u0442\u043e\u043c\u0438\u0440\u0441\u043a\u0430\u044f ---]\n",
        "\n",
        "     year  week     SMN      SMT    VCI    TCI    VHI  VHI_LESS_15  \\\n",
        "971  2000    18  0.3294  288.708  83.75  33.28  58.52          NaN   \n",
        "\n",
        "     VHI_LESS_35  \n",
        "971         1.27  "
       ]
      },
      {
       "output_type": "stream",
       "stream": "stdout",
       "text": [
        "\n",
        "\n",
        "[--- \u0417\u0430\u043a\u0430\u0440\u043f\u0430\u0442\u0441\u043a\u0430\u044f ---]\n",
        "\n",
        "     year  week     SMN      SMT    VCI    TCI    VHI  VHI_LESS_15  \\\n",
        "971  2000    18  0.3485  287.637  78.42  22.73  50.58         0.19   \n",
        "\n",
        "     VHI_LESS_35  \n",
        "971        10.99  \n",
        "\n",
        "[--- \u0417\u0430\u043f\u043e\u0440\u043e\u0436\u0441\u043a\u0430\u044f ---]\n",
        "\n",
        "     year  week     SMN      SMT    VCI    TCI    VHI  VHI_LESS_15  \\\n",
        "971  2000    18  0.2164  292.739  53.43  43.08  48.25         0.05   \n",
        "\n",
        "     VHI_LESS_35  \n",
        "971        11.95  \n",
        "\n",
        "[--- \u0418\u0432\u0430\u043d\u043e-\u0424\u0440\u0430\u043d\u043a\u043e\u0432\u0441\u043a\u0430\u044f ---]\n",
        "\n",
        "     year  week    SMN      SMT    VCI    TCI    VHI  VHI_LESS_15  VHI_LESS_35\n",
        "971  2000    18  0.352  287.994  87.46  16.04  51.75          NaN         3.36\n",
        "\n",
        "[--- \u041a\u0438\u0435\u0432c\u043a\u0430\u044f ---]\n",
        "\n",
        "     year  week     SMN      SMT    VCI    TCI    VHI  VHI_LESS_15  \\\n",
        "971  2000    18  0.2184  289.033  67.66  31.84  49.74          NaN   \n",
        "\n",
        "     VHI_LESS_35  \n",
        "971         11.9  \n",
        "\n",
        "[--- \u041a\u0438\u0440\u043e\u0432\u043e\u0433\u0440\u0430\u0434\u0441\u043a\u0430\u044f ---]\n",
        "\n",
        "     year  week     SMN      SMT    VCI    TCI    VHI  VHI_LESS_15  \\\n",
        "971  2000    18  0.2376  292.701  65.07  29.79  47.43          0.1   \n",
        "\n",
        "     VHI_LESS_35  \n",
        "971        13.37  \n",
        "\n",
        "[--- \u041b\u0443\u0433\u0430\u043d\u0441\u043a\u0430\u044f ---]\n",
        "\n",
        "     year  week     SMN      SMT    VCI   TCI    VHI  VHI_LESS_15  VHI_LESS_35\n",
        "971  2000    18  0.1825  289.995  46.55  43.3  44.92         0.29        19.63"
       ]
      },
      {
       "output_type": "stream",
       "stream": "stdout",
       "text": [
        "\n",
        "\n",
        "[--- \u041b\u044c\u0432\u043e\u0432\u0441\u043a\u0430\u044f ---]\n",
        "\n",
        "     year  week     SMN      SMT    VCI    TCI    VHI  VHI_LESS_15  \\\n",
        "971  2000    18  0.3694  289.723  88.52  16.95  52.73          NaN   \n",
        "\n",
        "     VHI_LESS_35  \n",
        "971         2.59  \n",
        "\n",
        "[--- \u041d\u0438\u043a\u043e\u043b\u0430\u0435\u0432\u0441\u043a\u0430\u044f ---]\n",
        "\n",
        "     year  week     SMN     SMT    VCI   TCI    VHI  VHI_LESS_15  VHI_LESS_35\n",
        "971  2000    18  0.2584  294.48  67.01  30.9  48.95         0.05        11.13\n",
        "\n",
        "[--- \u041e\u0434\u0435\u0441\u0441\u043a\u0430\u044f ---]\n",
        "\n",
        "     year  week     SMN      SMT    VCI    TCI    VHI  VHI_LESS_15  \\\n",
        "971  2000    18  0.2706  294.991  68.72  28.17  48.44          NaN   \n",
        "\n",
        "     VHI_LESS_35  \n",
        "971          9.1  \n",
        "\n",
        "[--- \u041f\u043e\u043b\u0442\u0430\u0432\u0441\u043a\u0430\u044f ---]\n",
        "\n",
        "     year  week     SMN      SMT    VCI    TCI    VHI  VHI_LESS_15  \\\n",
        "971  2000    18  0.2376  290.225  56.85  33.85  45.35         0.28   \n",
        "\n",
        "     VHI_LESS_35  \n",
        "971        20.73  \n",
        "\n",
        "[--- \u0420\u043e\u0432\u043d\u0435\u043d\u0441\u043a\u0430\u044f ---]\n",
        "\n",
        "     year  week     SMN      SMT    VCI    TCI    VHI  VHI_LESS_15  \\\n",
        "971  2000    18  0.3303  289.781  84.18  24.44  54.31          NaN   \n",
        "\n",
        "     VHI_LESS_35  \n",
        "971         2.49  \n",
        "\n",
        "[--- \u0421\u0443\u043c\u0441\u043a\u0430\u044f ---]\n",
        "\n",
        "     year  week     SMN      SMT    VCI    TCI    VHI  VHI_LESS_15  \\\n",
        "971  2000    18  0.2882  288.398  72.73  36.16  54.44          NaN   \n",
        "\n",
        "     VHI_LESS_35  \n",
        "971         4.46  "
       ]
      },
      {
       "output_type": "stream",
       "stream": "stdout",
       "text": [
        "\n",
        "\n",
        "[--- \u0422\u0435\u0440\u043d\u043e\u043f\u043e\u043b\u044c\u0441\u043a\u0430\u044f ---]\n",
        "\n",
        "     year  week     SMN      SMT    VCI    TCI    VHI  VHI_LESS_15  \\\n",
        "971  2000    18  0.3192  291.445  84.48  18.95  51.71          NaN   \n",
        "\n",
        "     VHI_LESS_35  \n",
        "971         6.29  \n",
        "\n",
        "[--- \u0425\u0430\u0440\u044c\u043a\u043e\u0432\u0441\u043a\u0430\u044f ---]\n",
        "\n",
        "     year  week     SMN      SMT    VCI    TCI    VHI  VHI_LESS_15  \\\n",
        "971  2000    18  0.2298  289.372  62.98  42.63  52.81         0.11   \n",
        "\n",
        "     VHI_LESS_35  \n",
        "971         7.89  \n",
        "\n",
        "[--- \u0425\u0435\u0440\u0441\u043e\u043d\u0441\u043a\u0430\u044f ---]\n",
        "\n",
        "     year  week     SMN      SMT    VCI    TCI    VHI  VHI_LESS_15  \\\n",
        "971  2000    18  0.2671  293.294  67.21  40.98  54.09         0.05   \n",
        "\n",
        "     VHI_LESS_35  \n",
        "971         5.59  \n",
        "\n",
        "[--- \u0425\u043c\u0435\u043b\u044c\u043d\u0438\u0446\u043a\u0430\u044f ---]\n",
        "\n",
        "     year  week     SMN      SMT    VCI    TCI   VHI  VHI_LESS_15  VHI_LESS_35\n",
        "971  2000    18  0.3341  290.529  89.96  27.44  58.7          NaN         0.82\n",
        "\n",
        "[--- \u0427\u0435\u0440\u043a\u0430\u0441\u0441\u043a\u0430\u044f ---]\n",
        "\n",
        "     year  week   SMN      SMT    VCI    TCI    VHI  VHI_LESS_15  VHI_LESS_35\n",
        "971  2000    18  0.27  290.693  70.14  32.43  51.28          NaN        10.44\n",
        "\n",
        "[--- \u0427\u0435\u0440\u043d\u043e\u0432\u0435\u0446\u043a\u0430\u044f ---]\n",
        "\n",
        "     year  week     SMN      SMT    VCI    TCI    VHI  VHI_LESS_15  \\\n",
        "971  2000    18  0.3419  289.864  83.59  23.32  53.45          NaN   \n",
        "\n",
        "     VHI_LESS_35  \n",
        "971         2.66  "
       ]
      },
      {
       "output_type": "stream",
       "stream": "stdout",
       "text": [
        "\n",
        "\n",
        "[--- \u0427\u0435\u0440\u043d\u0438\u0433\u043e\u0432\u0441\u043a\u0430\u044f ---]\n",
        "\n",
        "     year  week     SMN     SMT    VCI    TCI    VHI  VHI_LESS_15  VHI_LESS_35\n",
        "971  2000    18  0.3184  288.98  81.97  30.95  56.46         0.03         2.54\n",
        "\n",
        "[--- \u0420\u0435\u0441\u043f\u0443\u0431\u043b\u0438\u043a\u0430 \u041a\u0440\u044b\u043c ---]\n",
        "\n",
        "     year  week     SMN      SMT    VCI   TCI    VHI  VHI_LESS_15  VHI_LESS_35\n",
        "971  2000    18  0.3491  291.831  81.36  51.8  66.58          NaN         0.94\n",
        "\n",
        "[--- \u041a\u0438\u0435\u0432(\u0413\u043e\u0440\u043e\u0434) ---]\n",
        "\n",
        "     year  week     SMN      SMT    VCI    TCI    VHI  VHI_LESS_15  \\\n",
        "971  2000    18  0.2805  289.796  70.84  33.28  52.06         0.04   \n",
        "\n",
        "     VHI_LESS_35  \n",
        "971         8.43  \n",
        "\n",
        "[--- \u0421\u0435\u0432\u0430\u0441\u0442\u043e\u043f\u043e\u043b\u044c ---]\n",
        "\n",
        "     year  week     SMN      SMT    VCI    TCI    VHI  VHI_LESS_15  \\\n",
        "971  2000    18  0.3375  289.258  84.93  35.04  59.99          NaN   \n",
        "\n",
        "     VHI_LESS_35  \n",
        "971          2.5  \n"
       ]
      }
     ],
     "prompt_number": 6
    },
    {
     "cell_type": "markdown",
     "metadata": {},
     "source": [
      "Displays minimum and maximum VHI values with specified year (In usage 27's '\u0421\u0435\u0432\u0430\u0441\u0442\u043e\u043f\u043e\u043b\u044c' dataset)."
     ]
    },
    {
     "cell_type": "code",
     "collapsed": false,
     "input": [
      "y = 1981\n",
      "print ('\\n[--- Min/Max ---]\\n')\n",
      "while y < 2016:\n",
      "    extremum = df[df['year'] == y].VHI\n",
      "    mn = extremum.min(0)\n",
      "    mx = extremum.max(0)\n",
      "    print y, 'min value:', mn, '\\n     max value:', mx, '\\n'\n",
      "    y += 1"
     ],
     "language": "python",
     "metadata": {},
     "outputs": [
      {
       "output_type": "stream",
       "stream": "stdout",
       "text": [
        "\n",
        "[--- Min/Max ---]\n",
        "\n",
        "1981 min value: 33.74 \n",
        "     max value: 43.85 \n",
        "\n",
        "1982 min value: 20.04 \n",
        "     max value: 42.22 \n",
        "\n",
        "1983 min value: 27.33 \n",
        "     max value: 43.45 \n",
        "\n",
        "1984 min value: 26.84 \n",
        "     max value: 55.71 \n",
        "\n",
        "1985 min value: 25.32 \n",
        "     max value: 55.14 \n",
        "\n",
        "1986 min value: 21.11 \n",
        "     max value: 43.31 \n",
        "\n",
        "1987 min value: 28.65 \n",
        "     max value: 54.88 \n",
        "\n",
        "1988 min value: 34.06 \n",
        "     max value: 44.98 \n",
        "\n",
        "1989 min value: 24.86 \n",
        "     max value: 37.07 \n",
        "\n",
        "1990 min value: 23.8 \n",
        "     max value: 36.9 \n",
        "\n",
        "1991 min value: 29.65 \n",
        "     max value: 50.17 \n",
        "\n",
        "1992 min value: 34.17 \n",
        "     max value: 52.71 \n",
        "\n",
        "1993 min value: 34.67 \n",
        "     max value: 49.58 \n",
        "\n",
        "1994 min value: 26.47 \n",
        "     max value: 64.75 \n",
        "\n",
        "1995 min value: 21.11 \n",
        "     max value: 45.9 \n",
        "\n",
        "1996 min value: 24.87 \n",
        "     max value: 48.3 \n",
        "\n",
        "1997 min value: 36.31 \n",
        "     max value: 67.2 \n",
        "\n",
        "1998 min value: 33.33 \n",
        "     max value: 67.53 \n",
        "\n",
        "1999 min value: 32.88 \n",
        "     max value: 60.4 \n",
        "\n",
        "2000 min value: 19.45 \n",
        "     max value: 62.5 \n",
        "\n",
        "2001 min value: 36.55 \n",
        "     max value: 55.03 \n",
        "\n",
        "2002 min value: 41.62 \n",
        "     max value: 58.94 \n",
        "\n",
        "2003 min value: 36.46 \n",
        "     max value: 61.85 \n",
        "\n",
        "2004 min value: 41.7 \n",
        "     max value: 59.15 \n",
        "\n",
        "2005 min value: 40.37 \n",
        "     max value: 58.66 \n",
        "\n",
        "2006 min value: 43.34 \n",
        "     max value: 56.76 \n",
        "\n",
        "2007 min value: 39.23 \n",
        "     max value: 52.79 \n",
        "\n",
        "2008 min value: 47.23 \n",
        "     max value: 57.39 \n",
        "\n",
        "2009 min value: 35.15 \n",
        "     max value: 53.83 \n",
        "\n",
        "2010 min value: 41.05 \n",
        "     max value: 58.92 \n",
        "\n",
        "2011 min value: 37.62 \n",
        "     max value: 57.12 \n",
        "\n",
        "2012 min value: 36.06 \n",
        "     max value: 52.37 \n",
        "\n",
        "2013 min value: 42.83 \n",
        "     max value: 57.87 \n",
        "\n",
        "2014 min value: 40.7 \n",
        "     max value: 53.29 \n",
        "\n",
        "2015 min value: 40.33 \n",
        "     max value: 59.64 \n",
        "\n"
       ]
      }
     ],
     "prompt_number": 7
    },
    {
     "cell_type": "markdown",
     "metadata": {},
     "source": [
      "Displays VHI values with specified extreme VHI values."
     ]
    },
    {
     "cell_type": "code",
     "collapsed": false,
     "input": [
      "i = 1\n",
      "while i < 28:          \n",
      "    y = 1985\n",
      "    while y < 2016:\n",
      "        w = 1\n",
      "        while w < 53:\n",
      "            current_VHI = df[(df['year'] == y) & (df['week'] == w)].VHI\n",
      "            extreme_VHI = df[(df['year'] == y) & (df['week'] == w)].VHI_LESS_35\n",
      "            if current_VHI.item() > extreme_VHI.item():\n",
      "                print current_VHI.values\n",
      "            w += 1\n",
      "        y += 1\n",
      "    i += 1"
     ],
     "language": "python",
     "metadata": {},
     "outputs": [
      {
       "output_type": "stream",
       "stream": "stdout",
       "text": [
        "[ 55.14]\n",
        "[ 50.95]\n",
        "[ 45.17]\n",
        "[ 43.05]\n",
        "[ 42.06]\n",
        "[ 37.16]"
       ]
      },
      {
       "output_type": "stream",
       "stream": "stdout",
       "text": [
        "\n",
        "[ 39.73]\n",
        "[ 39.96]"
       ]
      },
      {
       "output_type": "stream",
       "stream": "stdout",
       "text": [
        "\n",
        "[ 38.14]"
       ]
      },
      {
       "output_type": "stream",
       "stream": "stdout",
       "text": [
        "\n",
        "[ 43.31]\n",
        "[ 46.99]\n",
        "[ 48.72]\n",
        "[ 47.9]\n",
        "[ 45.99]\n",
        "[ 43.33]\n",
        "[ 41.29]\n",
        "[ 39.26]\n",
        "[ 39.58]\n",
        "[ 40.92]\n",
        "[ 42.2]"
       ]
      },
      {
       "output_type": "stream",
       "stream": "stdout",
       "text": [
        "\n",
        "[ 42.89]\n",
        "[ 44.18]\n",
        "[ 44.94]\n",
        "[ 45.27]\n",
        "[ 45.42]\n",
        "[ 45.96]\n",
        "[ 49.61]\n",
        "[ 51.5]\n",
        "[ 52.95]\n",
        "[ 54.88]\n",
        "[ 54.62]\n",
        "[ 52.33]\n",
        "[ 49.38]\n",
        "[ 47.13]\n",
        "[ 47.08]\n",
        "[ 45.77]\n",
        "[ 43.02]\n",
        "[ 41.67]\n",
        "[ 42.56]\n",
        "[ 41.31]\n",
        "[ 40.59]\n",
        "[ 40.81]"
       ]
      },
      {
       "output_type": "stream",
       "stream": "stdout",
       "text": [
        "\n",
        "[ 40.36]\n",
        "[ 40.71]\n",
        "[ 41.54]\n",
        "[ 42.19]\n",
        "[ 42.46]\n",
        "[ 42.45]\n",
        "[ 39.98]\n",
        "[ 38.13]\n",
        "[ 37.85]\n",
        "[ 38.86]\n",
        "[ 37.95]\n",
        "[ 37.58]\n",
        "[ 40.14]\n",
        "[ 40.67]"
       ]
      },
      {
       "output_type": "stream",
       "stream": "stdout",
       "text": [
        "\n",
        "[ 42.46]\n",
        "[ 43.85]\n",
        "[ 42.82]\n",
        "[ 42.1]\n",
        "[ 42.03]\n",
        "[ 41.67]\n",
        "[ 40.31]\n",
        "[ 40.28]\n",
        "[ 39.44]\n",
        "[ 37.98]\n",
        "[ 41.75]\n",
        "[ 42.2]\n",
        "[ 43.09]"
       ]
      },
      {
       "output_type": "stream",
       "stream": "stdout",
       "text": [
        "\n",
        "[ 43.88]\n",
        "[ 44.82]\n",
        "[ 44.98]\n",
        "[ 44.62]\n",
        "[ 44.76]\n",
        "[ 42.35]\n",
        "[ 40.73]\n",
        "[ 39.52]\n",
        "[ 40.58]"
       ]
      },
      {
       "output_type": "stream",
       "stream": "stdout",
       "text": [
        "\n",
        "[ 41.17]\n",
        "[ 41.56]\n",
        "[ 41.9]\n",
        "[ 40.69]\n",
        "[ 39.22]\n",
        "[ 38.88]\n",
        "[ 38.16]\n",
        "[ 38.5]\n",
        "[ 40.45]\n",
        "[ 41.89]\n",
        "[ 42.48]\n",
        "[ 43.11]\n",
        "[ 42.96]\n",
        "[ 43.16]\n",
        "[ 41.19]\n",
        "[ 37.56]"
       ]
      },
      {
       "output_type": "stream",
       "stream": "stdout",
       "text": [
        "\n",
        "[ 39.55]\n",
        "[ 43.45]\n",
        "[ 46.81]\n",
        "[ 49.22]\n",
        "[ 50.17]\n",
        "[ 49.35]\n",
        "[ 49.72]\n",
        "[ 49.81]\n",
        "[ 49.84]\n",
        "[ 51.33]\n",
        "[ 49.94]\n",
        "[ 48.17]\n",
        "[ 46.79]\n",
        "[ 45.52]\n",
        "[ 43.48]\n",
        "[ 41.83]\n",
        "[ 40.54]\n",
        "[ 39.54]"
       ]
      },
      {
       "output_type": "stream",
       "stream": "stdout",
       "text": [
        "\n",
        "[ 42.92]\n",
        "[ 42.87]\n",
        "[ 44.47]\n",
        "[ 44.64]\n",
        "[ 44.38]\n",
        "[ 45.82]\n",
        "[ 46.41]\n",
        "[ 46.84]\n",
        "[ 45.05]\n",
        "[ 43.09]\n",
        "[ 42.64]\n",
        "[ 40.89]\n",
        "[ 39.93]\n",
        "[ 39.64]\n",
        "[ 39.69]\n",
        "[ 39.04]\n",
        "[ 39.62]"
       ]
      },
      {
       "output_type": "stream",
       "stream": "stdout",
       "text": [
        "\n",
        "[ 44.03]\n",
        "[ 46.5]\n",
        "[ 47.31]\n",
        "[ 48.08]\n",
        "[ 48.8]\n",
        "[ 49.6]\n",
        "[ 50.54]\n",
        "[ 50.49]\n",
        "[ 49.12]\n",
        "[ 48.68]\n",
        "[ 48.6]\n",
        "[ 47.5]\n",
        "[ 46.04]\n",
        "[ 45.99]\n",
        "[ 45.46]\n",
        "[ 44.63]\n",
        "[ 43.47]\n",
        "[ 45.58]\n",
        "[ 47.3]\n",
        "[ 47.92]\n",
        "[ 46.32]\n",
        "[ 43.62]"
       ]
      },
      {
       "output_type": "stream",
       "stream": "stdout",
       "text": [
        "\n",
        "[ 40.29]\n",
        "[ 40.35]\n",
        "[ 41.85]\n",
        "[ 43.93]\n",
        "[ 44.42]\n",
        "[ 46.39]\n",
        "[ 47.98]\n",
        "[ 48.17]\n",
        "[ 47.68]\n",
        "[ 48.19]\n",
        "[ 47.76]\n",
        "[ 46.24]\n",
        "[ 44.51]\n",
        "[ 43.28]\n",
        "[ 44.46]\n",
        "[ 42.86]"
       ]
      },
      {
       "output_type": "stream",
       "stream": "stdout",
       "text": [
        "\n",
        "[ 42.64]\n",
        "[ 43.34]\n",
        "[ 42.98]\n",
        "[ 42.37]\n",
        "[ 42.12]\n",
        "[ 43.12]\n",
        "[ 43.37]\n",
        "[ 40.79]\n",
        "[ 38.02]\n",
        "[ 39.3]\n",
        "[ 39.04]\n",
        "[ 40.92]\n",
        "[ 43.55]\n",
        "[ 44.73]\n",
        "[ 44.29]\n",
        "[ 45.84]\n",
        "[ 47.2]\n",
        "[ 47.75]\n",
        "[ 49.58]\n",
        "[ 49.34]\n",
        "[ 50.56]"
       ]
      },
      {
       "output_type": "stream",
       "stream": "stdout",
       "text": [
        "\n",
        "[ 52.71]\n",
        "[ 55.86]\n",
        "[ 56.85]\n",
        "[ 51.76]\n",
        "[ 48.66]\n",
        "[ 45.17]\n",
        "[ 43.]\n",
        "[ 42.62]\n",
        "[ 40.08]\n",
        "[ 38.28]\n",
        "[ 42.94]\n",
        "[ 47.47]\n",
        "[ 50.92]\n",
        "[ 52.36]\n",
        "[ 50.89]\n",
        "[ 50.41]\n",
        "[ 49.24]\n",
        "[ 48.36]\n",
        "[ 47.83]"
       ]
      },
      {
       "output_type": "stream",
       "stream": "stdout",
       "text": [
        "\n",
        "[ 46.19]\n",
        "[ 43.11]\n"
       ]
      },
      {
       "ename": "ValueError",
       "evalue": "can only convert an array of size 1 to a Python scalar",
       "output_type": "pyerr",
       "traceback": [
        "\u001b[1;31m---------------------------------------------------------------------------\u001b[0m\n\u001b[1;31mValueError\u001b[0m                                Traceback (most recent call last)",
        "\u001b[1;32m<ipython-input-8-e722b74ccc1b>\u001b[0m in \u001b[0;36m<module>\u001b[1;34m()\u001b[0m\n\u001b[0;32m      7\u001b[0m             \u001b[0mcurrent_VHI\u001b[0m \u001b[1;33m=\u001b[0m \u001b[0mdf\u001b[0m\u001b[1;33m[\u001b[0m\u001b[1;33m(\u001b[0m\u001b[0mdf\u001b[0m\u001b[1;33m[\u001b[0m\u001b[1;34m'year'\u001b[0m\u001b[1;33m]\u001b[0m \u001b[1;33m==\u001b[0m \u001b[0my\u001b[0m\u001b[1;33m)\u001b[0m \u001b[1;33m&\u001b[0m \u001b[1;33m(\u001b[0m\u001b[0mdf\u001b[0m\u001b[1;33m[\u001b[0m\u001b[1;34m'week'\u001b[0m\u001b[1;33m]\u001b[0m \u001b[1;33m==\u001b[0m \u001b[0mw\u001b[0m\u001b[1;33m)\u001b[0m\u001b[1;33m]\u001b[0m\u001b[1;33m.\u001b[0m\u001b[0mVHI\u001b[0m\u001b[1;33m\u001b[0m\u001b[0m\n\u001b[0;32m      8\u001b[0m             \u001b[0mextreme_VHI\u001b[0m \u001b[1;33m=\u001b[0m \u001b[0mdf\u001b[0m\u001b[1;33m[\u001b[0m\u001b[1;33m(\u001b[0m\u001b[0mdf\u001b[0m\u001b[1;33m[\u001b[0m\u001b[1;34m'year'\u001b[0m\u001b[1;33m]\u001b[0m \u001b[1;33m==\u001b[0m \u001b[0my\u001b[0m\u001b[1;33m)\u001b[0m \u001b[1;33m&\u001b[0m \u001b[1;33m(\u001b[0m\u001b[0mdf\u001b[0m\u001b[1;33m[\u001b[0m\u001b[1;34m'week'\u001b[0m\u001b[1;33m]\u001b[0m \u001b[1;33m==\u001b[0m \u001b[0mw\u001b[0m\u001b[1;33m)\u001b[0m\u001b[1;33m]\u001b[0m\u001b[1;33m.\u001b[0m\u001b[0mVHI_LESS_35\u001b[0m\u001b[1;33m\u001b[0m\u001b[0m\n\u001b[1;32m----> 9\u001b[1;33m             \u001b[1;32mif\u001b[0m \u001b[0mcurrent_VHI\u001b[0m\u001b[1;33m.\u001b[0m\u001b[0mitem\u001b[0m\u001b[1;33m(\u001b[0m\u001b[1;33m)\u001b[0m \u001b[1;33m>\u001b[0m \u001b[0mextreme_VHI\u001b[0m\u001b[1;33m.\u001b[0m\u001b[0mitem\u001b[0m\u001b[1;33m(\u001b[0m\u001b[1;33m)\u001b[0m\u001b[1;33m:\u001b[0m\u001b[1;33m\u001b[0m\u001b[0m\n\u001b[0m\u001b[0;32m     10\u001b[0m                 \u001b[1;32mprint\u001b[0m \u001b[0mcurrent_VHI\u001b[0m\u001b[1;33m.\u001b[0m\u001b[0mvalues\u001b[0m\u001b[1;33m\u001b[0m\u001b[0m\n\u001b[0;32m     11\u001b[0m             \u001b[0mw\u001b[0m \u001b[1;33m+=\u001b[0m \u001b[1;36m1\u001b[0m\u001b[1;33m\u001b[0m\u001b[0m\n",
        "\u001b[1;32m/usr/lib64/python2.7/site-packages/pandas/core/base.pyc\u001b[0m in \u001b[0;36mitem\u001b[1;34m(self)\u001b[0m\n\u001b[0;32m    295\u001b[0m         \u001b[1;34m\"\"\" return the first element of the underlying data as a python scalar \"\"\"\u001b[0m\u001b[1;33m\u001b[0m\u001b[0m\n\u001b[0;32m    296\u001b[0m         \u001b[1;32mtry\u001b[0m\u001b[1;33m:\u001b[0m\u001b[1;33m\u001b[0m\u001b[0m\n\u001b[1;32m--> 297\u001b[1;33m             \u001b[1;32mreturn\u001b[0m \u001b[0mself\u001b[0m\u001b[1;33m.\u001b[0m\u001b[0mvalues\u001b[0m\u001b[1;33m.\u001b[0m\u001b[0mitem\u001b[0m\u001b[1;33m(\u001b[0m\u001b[1;33m)\u001b[0m\u001b[1;33m\u001b[0m\u001b[0m\n\u001b[0m\u001b[0;32m    298\u001b[0m         \u001b[1;32mexcept\u001b[0m \u001b[0mIndexError\u001b[0m\u001b[1;33m:\u001b[0m\u001b[1;33m\u001b[0m\u001b[0m\n\u001b[0;32m    299\u001b[0m             \u001b[1;31m# copy numpy's message here because Py26 raises an IndexError\u001b[0m\u001b[1;33m\u001b[0m\u001b[1;33m\u001b[0m\u001b[0m\n",
        "\u001b[1;31mValueError\u001b[0m: can only convert an array of size 1 to a Python scalar"
       ]
      }
     ],
     "prompt_number": 8
    },
    {
     "cell_type": "markdown",
     "metadata": {},
     "source": [
      "Displays VHI value with specified average VHI values."
     ]
    },
    {
     "cell_type": "code",
     "collapsed": false,
     "input": [
      "i = 1\n",
      "while i < 28:          \n",
      "    y = 1985\n",
      "    while y < 2016:\n",
      "        w = 1\n",
      "        while w < 53:\n",
      "            current_VHI = df[(df['year'] == y) & (df['week'] == w)].VHI\n",
      "            average_VHI = df[(df['year'] == y) & (df['week'] == w)].VHI_LESS_15\n",
      "            if current_VHI.item() > average_VHI.item():\n",
      "                print current_VHI.values\n",
      "            w += 1\n",
      "        y += 1\n",
      "    i += 1"
     ],
     "language": "python",
     "metadata": {},
     "outputs": []
    },
    {
     "cell_type": "markdown",
     "metadata": {},
     "source": [
      "Extra excercise"
     ]
    },
    {
     "cell_type": "code",
     "collapsed": false,
     "input": [
      "i = 1\n",
      "while i < 28:\n",
      "    w = 1\n",
      "    while w < 53:\n",
      "        current_VHI = df[(df['year'] == 2000) & (df['week'] == w)].VHI\n",
      "        if current_VHI.item() < 32:\n",
      "            print current_VHI.values\n",
      "        w += 1\n",
      "    i += 1"
     ],
     "language": "python",
     "metadata": {},
     "outputs": []
    }
   ],
   "metadata": {}
  }
 ]
}